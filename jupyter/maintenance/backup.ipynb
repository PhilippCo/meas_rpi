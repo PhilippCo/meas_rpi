{
 "cells": [
  {
   "cell_type": "markdown",
   "id": "2ce4b281-0127-4bcf-a35c-e37c83a128c3",
   "metadata": {},
   "source": [
    "# Backup\n",
    "This Notebook creates a compressed backup of the notebooks folder in the backups folder. Don't forget to download the backup!!"
   ]
  },
  {
   "cell_type": "code",
   "execution_count": null,
   "id": "28d52a41-4faf-44d8-9951-e193f1d96ba0",
   "metadata": {},
   "outputs": [],
   "source": [
    "!now=`date +\"%Y-%m-%d\"` && tar -zcvf backups/backup-${now}.tar.gz /home/pi/notebooks"
   ]
  }
 ],
 "metadata": {
  "kernelspec": {
   "display_name": "Python 3 (ipykernel)",
   "language": "python",
   "name": "python3"
  },
  "language_info": {
   "codemirror_mode": {
    "name": "ipython",
    "version": 3
   },
   "file_extension": ".py",
   "mimetype": "text/x-python",
   "name": "python",
   "nbconvert_exporter": "python",
   "pygments_lexer": "ipython3",
   "version": "3.7.3"
  }
 },
 "nbformat": 4,
 "nbformat_minor": 5
}
