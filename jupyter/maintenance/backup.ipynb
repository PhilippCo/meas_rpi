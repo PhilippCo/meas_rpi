{
 "cells": [
  {
   "cell_type": "markdown",
   "id": "2ce4b281-0127-4bcf-a35c-e37c83a128c3",
   "metadata": {},
   "source": [
    "# Backup\n",
    "This Notebook creates a compressed backup of the notebooks folder in the backups folder. Don't forget to download the backup!!"
   ]
  },
  {
   "cell_type": "code",
   "execution_count": 2,
   "id": "28d52a41-4faf-44d8-9951-e193f1d96ba0",
   "metadata": {},
   "outputs": [
    {
     "name": "stdout",
     "output_type": "stream",
     "text": [
      "tar: Removing leading `/' from member names\n",
      "/home/pi/notebooks/\n",
      "/home/pi/notebooks/.ipynb_checkpoints/\n",
      "/home/pi/notebooks/.ipynb_checkpoints/Untitled-checkpoint.ipynb\n",
      "/home/pi/notebooks/.ipynb_checkpoints/Untitled1-checkpoint.ipynb\n",
      "/home/pi/notebooks/.ipynb_checkpoints/log-checkpoint.txt\n",
      "/home/pi/notebooks/reference_scanner/\n",
      "/home/pi/notebooks/reference_scanner/liveplot.ipynb\n",
      "/home/pi/notebooks/reference_scanner/.ipynb_checkpoints/\n",
      "/home/pi/notebooks/reference_scanner/.ipynb_checkpoints/plot_History-checkpoint.ipynb\n",
      "/home/pi/notebooks/reference_scanner/.ipynb_checkpoints/liveplot-checkpoint.ipynb\n",
      "/home/pi/notebooks/reference_scanner/.ipynb_checkpoints/log_zero-checkpoint.ipynb\n",
      "/home/pi/notebooks/reference_scanner/.ipynb_checkpoints/reference_scanner-checkpoint.ipynb\n",
      "/home/pi/notebooks/reference_scanner/.ipynb_checkpoints/plot_latest-checkpoint.ipynb\n",
      "/home/pi/notebooks/reference_scanner/20210901-232152_scanner.xlsx\n",
      "/home/pi/notebooks/reference_scanner/reference_scanner.ipynb\n",
      "/home/pi/notebooks/reference_scanner/20210903-002111_scanner.xlsx\n",
      "/home/pi/notebooks/reference_scanner/20210901-225523_scanner.xlsx\n",
      "/home/pi/notebooks/reference_scanner/20210907-233518_scanner.xlsx\n",
      "/home/pi/notebooks/reference_scanner/plot_History.ipynb\n",
      "/home/pi/notebooks/reference_scanner/20210914-233619_scanner.xlsx\n",
      "/home/pi/notebooks/reference_scanner/20210916-201054_zero_log.xlsx\n",
      "/home/pi/notebooks/reference_scanner/log_zero.ipynb\n",
      "/home/pi/notebooks/reference_scanner/20210917-093702_zero_log_Chan8.xlsx\n",
      "/home/pi/notebooks/reference_scanner/plot_latest.ipynb\n",
      "/home/pi/notebooks/Untitled1.ipynb\n",
      "/home/pi/notebooks/20210818-231253_34401A_scan.xlsx\n",
      "/home/pi/notebooks/log.txt\n",
      "/home/pi/notebooks/examples\n",
      "/home/pi/notebooks/Untitled.ipynb\n",
      "/home/pi/notebooks/20210819-220804_34401A_scan.xlsx\n",
      "/home/pi/notebooks/20210818-214900_34401A_scan.xlsx\n",
      "/home/pi/notebooks/20210820-000733_34401A_scan.xlsx\n"
     ]
    }
   ],
   "source": [
    "!now=`date +\"%Y-%m-%d\"` && tar -zcvf backups/backup-${now}.tar.gz /home/pi/notebooks"
   ]
  },
  {
   "cell_type": "code",
   "execution_count": null,
   "id": "6651dfde-7267-47f5-a863-7241a86da815",
   "metadata": {},
   "outputs": [],
   "source": []
  }
 ],
 "metadata": {
  "kernelspec": {
   "display_name": "Python 3 (ipykernel)",
   "language": "python",
   "name": "python3"
  },
  "language_info": {
   "codemirror_mode": {
    "name": "ipython",
    "version": 3
   },
   "file_extension": ".py",
   "mimetype": "text/x-python",
   "name": "python",
   "nbconvert_exporter": "python",
   "pygments_lexer": "ipython3",
   "version": "3.7.3"
  }
 },
 "nbformat": 4,
 "nbformat_minor": 5
}
