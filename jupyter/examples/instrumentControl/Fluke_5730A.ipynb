{
 "cells": [
  {
   "cell_type": "code",
   "execution_count": 1,
   "id": "d881fba4-0ea7-4a5f-a54d-c432a6f80da4",
   "metadata": {},
   "outputs": [],
   "source": [
    "import testgear"
   ]
  },
  {
   "cell_type": "code",
   "execution_count": 2,
   "id": "5d00f240-480d-4e2c-88dc-38194043d8e2",
   "metadata": {},
   "outputs": [
    {
     "name": "stdout",
     "output_type": "stream",
     "text": [
      "pyvisa initialized..\n",
      "Fluke 5730A calibrator detected\n"
     ]
    }
   ],
   "source": [
    "cal = testgear.Fluke.F5730A(gpib=2, gwip=\"10.112.145.89\")"
   ]
  },
  {
   "cell_type": "code",
   "execution_count": 3,
   "id": "dacc0249-a38a-4382-aa85-631371e5abeb",
   "metadata": {},
   "outputs": [],
   "source": [
    "cal.set_output(voltage=1, frequency=0, enabled=True)"
   ]
  },
  {
   "cell_type": "code",
   "execution_count": 4,
   "id": "773f36ea-374b-48ba-afba-8138051b661c",
   "metadata": {},
   "outputs": [
    {
     "data": {
      "text/plain": [
       "============ Channel 1 ============\n",
       "enabled:\tTrue\n",
       "\n",
       "set_voltage:\t1.000000 V\n",
       "set_current:\tnan A\n",
       "\n",
       "voltage:\t1.000000 V\n",
       "current:\tnan A\n",
       "\n",
       "frequency:\t0.000000 Hz\n",
       "waveform:\tDC\n",
       "\n",
       "resistance:\tnan Ohm"
      ]
     },
     "execution_count": 4,
     "metadata": {},
     "output_type": "execute_result"
    }
   ],
   "source": [
    "cal.get_output()"
   ]
  },
  {
   "cell_type": "code",
   "execution_count": null,
   "id": "6dbc3867-fe13-4ec3-8a9e-b1cb167d7c8f",
   "metadata": {},
   "outputs": [],
   "source": []
  }
 ],
 "metadata": {
  "kernelspec": {
   "display_name": "Python 3",
   "language": "python",
   "name": "python3"
  },
  "language_info": {
   "codemirror_mode": {
    "name": "ipython",
    "version": 3
   },
   "file_extension": ".py",
   "mimetype": "text/x-python",
   "name": "python",
   "nbconvert_exporter": "python",
   "pygments_lexer": "ipython3",
   "version": "3.8.10"
  }
 },
 "nbformat": 4,
 "nbformat_minor": 5
}
