{
 "cells": [
  {
   "cell_type": "code",
   "execution_count": 1,
   "id": "4911580d-9f23-483a-a7df-c19c125348e1",
   "metadata": {},
   "outputs": [],
   "source": [
    "import testgear"
   ]
  },
  {
   "cell_type": "code",
   "execution_count": 2,
   "id": "656c7574-d187-4e6a-9599-c93059bd06ac",
   "metadata": {},
   "outputs": [
    {
     "name": "stdout",
     "output_type": "stream",
     "text": [
      "pyvisa initialized..\n"
     ]
    }
   ],
   "source": [
    "inst = testgear.base_classes.instrument(gpib=5, gwip=\"192.168.2.88\")"
   ]
  },
  {
   "cell_type": "code",
   "execution_count": 3,
   "id": "c85c12ac-f190-4a82-8f65-4a1e03e94af4",
   "metadata": {},
   "outputs": [
    {
     "data": {
      "text/plain": [
       "============ Testgear Instrument ============\n",
       "Class:\t\tinstrument\n",
       "VISA String:\tTCPIP::192.168.2.88::gpib0,5::INSTR\n",
       "ID String:\t\n",
       "Timeout:\t2.000 s"
      ]
     },
     "execution_count": 3,
     "metadata": {},
     "output_type": "execute_result"
    }
   ],
   "source": [
    "inst"
   ]
  },
  {
   "cell_type": "code",
   "execution_count": 4,
   "id": "83a09b4c-2129-4335-9691-571a6dcaac9f",
   "metadata": {},
   "outputs": [
    {
     "data": {
      "text/plain": [
       "'HEWLETT-PACKARD,53131A,0,3703\\n'"
      ]
     },
     "execution_count": 4,
     "metadata": {},
     "output_type": "execute_result"
    }
   ],
   "source": [
    "inst.query(\"*IDN?\")"
   ]
  },
  {
   "cell_type": "code",
   "execution_count": null,
   "id": "08f32f46-acd9-43dd-b1ba-d1dca4f3e4c5",
   "metadata": {},
   "outputs": [],
   "source": []
  }
 ],
 "metadata": {
  "kernelspec": {
   "display_name": "Python 3",
   "language": "python",
   "name": "python3"
  },
  "language_info": {
   "codemirror_mode": {
    "name": "ipython",
    "version": 3
   },
   "file_extension": ".py",
   "mimetype": "text/x-python",
   "name": "python",
   "nbconvert_exporter": "python",
   "pygments_lexer": "ipython3",
   "version": "3.8.10"
  }
 },
 "nbformat": 4,
 "nbformat_minor": 5
}
