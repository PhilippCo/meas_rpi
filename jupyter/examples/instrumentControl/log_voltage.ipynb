{
 "cells": [
  {
   "cell_type": "markdown",
   "id": "b0925ea7-4e58-4613-8bc1-4727cc628522",
   "metadata": {},
   "source": [
    "# simple data logging example"
   ]
  },
  {
   "cell_type": "code",
   "execution_count": 1,
   "id": "4911580d-9f23-483a-a7df-c19c125348e1",
   "metadata": {},
   "outputs": [],
   "source": [
    "import testgear #testgear support\n",
    "import datetime #generates a datetime object to log the point in time of our measurement\n",
    "import time     #access to current time and sleep functions\n",
    "import openpyxl as xls #access to Excel files"
   ]
  },
  {
   "cell_type": "markdown",
   "id": "acbb3fa4-24a0-4705-9241-d4e0562ce994",
   "metadata": {},
   "source": [
    "In this example we want to log a voltage source"
   ]
  },
  {
   "cell_type": "code",
   "execution_count": 2,
   "id": "656c7574-d187-4e6a-9599-c93059bd06ac",
   "metadata": {},
   "outputs": [
    {
     "name": "stdout",
     "output_type": "stream",
     "text": [
      "pyvisa initialized..\n"
     ]
    }
   ],
   "source": [
    "#choose your weapon..\n",
    "\n",
    "# here are a few meters which are currently supported for this action\n",
    "dmm = testgear.HPAK.HP34401A(gpib=3, gwip=\"192.168.2.88\") #gpib3 behind my E5810A\n",
    "#dmm = testgear.HPAK.HP3458A()\n",
    "#dmm = testgear.HPAK.K34461A()\n",
    "#dmm = testgear.HPAK.K34470A()\n",
    "#dmm = testgear.Fluke.F8508A()\n",
    "#dmm = testgear.Fluke.F8588A()\n",
    "#dmm = testgear.Keithley.K182()\n",
    "#dmm = testgear.Keithley.K617()\n",
    "# ..."
   ]
  },
  {
   "cell_type": "code",
   "execution_count": 3,
   "id": "c85c12ac-f190-4a82-8f65-4a1e03e94af4",
   "metadata": {},
   "outputs": [
    {
     "data": {
      "text/plain": [
       "============ Testgear Instrument ============\n",
       "Class:\t\tHP34401A\n",
       "VISA String:\tTCPIP::192.168.2.88::gpib0,3::INSTR\n",
       "ID String:\tHEWLETT-PACKARD,34401A,0,10-5-2\n",
       "Timeout:\t10.000 s"
      ]
     },
     "execution_count": 3,
     "metadata": {},
     "output_type": "execute_result"
    }
   ],
   "source": [
    "dmm"
   ]
  },
  {
   "cell_type": "code",
   "execution_count": 4,
   "id": "3de4c6c0-8e61-40e9-899c-42bbebc7a7c5",
   "metadata": {},
   "outputs": [],
   "source": [
    "#configure the DMM for 10V DC fixed range, 100NPLC and high input impedance\n",
    "#this call is independend of the choosen meter. Everything which is special to a specific\n",
    "#meter is handled in the testgear lib\n",
    "\n",
    "dmm.conf_function_DCV(mrange=10, nplc=100, HiZ=True)"
   ]
  },
  {
   "cell_type": "code",
   "execution_count": 5,
   "id": "83a09b4c-2129-4335-9691-571a6dcaac9f",
   "metadata": {},
   "outputs": [],
   "source": [
    "filename = \"../data/\"+time.strftime(\"%Y-%m-%d--%H-%M-%S\")+\"_10V_log.xlsx\" #generate filename\n",
    "\n",
    "wb = xls.Workbook() #create Excel Workbook\n",
    "ws = wb.active      #select active worksheet\n",
    "\n",
    "ws.append([\"timestamp\", \"value\"]) #we're using the first line in our Excel file for some headers"
   ]
  },
  {
   "cell_type": "code",
   "execution_count": 6,
   "id": "08f32f46-acd9-43dd-b1ba-d1dca4f3e4c5",
   "metadata": {},
   "outputs": [
    {
     "name": "stdout",
     "output_type": "stream",
     "text": [
      "0 [datetime.datetime(2021, 8, 14, 1, 21, 54, 677573), 7.1857292]\n",
      "1 [datetime.datetime(2021, 8, 14, 1, 21, 58, 794682), 7.1857296]\n",
      "2 [datetime.datetime(2021, 8, 14, 1, 22, 2, 833786), 7.1857308]\n",
      "3 [datetime.datetime(2021, 8, 14, 1, 22, 6, 875121), 7.1857296]\n",
      "4 [datetime.datetime(2021, 8, 14, 1, 22, 10, 912796), 7.1857295]\n",
      "5 [datetime.datetime(2021, 8, 14, 1, 22, 14, 951985), 7.1857296]\n",
      "6 [datetime.datetime(2021, 8, 14, 1, 22, 18, 991227), 7.1857305]\n",
      "7 [datetime.datetime(2021, 8, 14, 1, 22, 23, 55435), 7.1857301]\n",
      "8 [datetime.datetime(2021, 8, 14, 1, 22, 27, 92314), 7.1857312]\n",
      "9 [datetime.datetime(2021, 8, 14, 1, 22, 31, 131778), 7.1857293]\n"
     ]
    }
   ],
   "source": [
    "for i in range(0, 10): #we want to take 10 readings\n",
    "    value = dmm.get_reading()\n",
    "    data  = [datetime.datetime.today(), value]\n",
    "    print(i, data)    #show our data\n",
    "    ws.append(data)   #store our data\n",
    "    wb.save(filename) #write Excel file"
   ]
  },
  {
   "cell_type": "code",
   "execution_count": null,
   "id": "ba54f751-3151-44cf-907f-e9b5f9ee0e41",
   "metadata": {},
   "outputs": [],
   "source": []
  }
 ],
 "metadata": {
  "kernelspec": {
   "display_name": "Python 3",
   "language": "python",
   "name": "python3"
  },
  "language_info": {
   "codemirror_mode": {
    "name": "ipython",
    "version": 3
   },
   "file_extension": ".py",
   "mimetype": "text/x-python",
   "name": "python",
   "nbconvert_exporter": "python",
   "pygments_lexer": "ipython3",
   "version": "3.8.10"
  }
 },
 "nbformat": 4,
 "nbformat_minor": 5
}
