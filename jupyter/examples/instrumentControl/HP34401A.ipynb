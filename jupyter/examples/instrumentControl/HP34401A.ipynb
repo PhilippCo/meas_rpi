{
 "cells": [
  {
   "cell_type": "code",
   "execution_count": null,
   "id": "disturbed-harvey",
   "metadata": {},
   "outputs": [],
   "source": [
    "import testgear"
   ]
  },
  {
   "cell_type": "code",
   "execution_count": null,
   "id": "decreased-courage",
   "metadata": {},
   "outputs": [],
   "source": [
    "inst = testgear.HPAK.HP34401A(gpib=3)"
   ]
  },
  {
   "cell_type": "code",
   "execution_count": null,
   "id": "prescribed-concord",
   "metadata": {},
   "outputs": [],
   "source": [
    "inst.get_reading()"
   ]
  },
  {
   "cell_type": "code",
   "execution_count": null,
   "id": "funded-vegetarian",
   "metadata": {},
   "outputs": [],
   "source": []
  }
 ],
 "metadata": {
  "kernelspec": {
   "display_name": "Python 3",
   "language": "python",
   "name": "python3"
  },
  "language_info": {
   "codemirror_mode": {
    "name": "ipython",
    "version": 3
   },
   "file_extension": ".py",
   "mimetype": "text/x-python",
   "name": "python",
   "nbconvert_exporter": "python",
   "pygments_lexer": "ipython3",
   "version": "3.8.5"
  }
 },
 "nbformat": 4,
 "nbformat_minor": 5
}
