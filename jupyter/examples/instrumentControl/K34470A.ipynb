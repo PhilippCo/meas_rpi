{
 "cells": [
  {
   "cell_type": "code",
   "execution_count": 1,
   "id": "disturbed-harvey",
   "metadata": {},
   "outputs": [],
   "source": [
    "import testgear"
   ]
  },
  {
   "cell_type": "code",
   "execution_count": 2,
   "id": "decreased-courage",
   "metadata": {},
   "outputs": [
    {
     "name": "stdout",
     "output_type": "stream",
     "text": [
      "pyvisa initialized..\n"
     ]
    }
   ],
   "source": [
    "inst = testgear.HPAK.K34470A(gpib=11, gwip=\"10.112.145.89\")"
   ]
  },
  {
   "cell_type": "code",
   "execution_count": 3,
   "id": "91780808-0109-40bb-b188-abf2b84160e5",
   "metadata": {},
   "outputs": [
    {
     "data": {
      "text/plain": [
       "============ Testgear Instrument ============\n",
       "Class:\t\tK34470A\n",
       "VISA String:\tTCPIP::10.112.145.89::gpib0,11::INSTR\n",
       "ID String:\tKeysight Technologies,34470A,MY54700780,A.03.00-02.40-03.00-00.52-02-01\n",
       "Timeout:\t10.000 s"
      ]
     },
     "execution_count": 3,
     "metadata": {},
     "output_type": "execute_result"
    }
   ],
   "source": [
    "inst"
   ]
  },
  {
   "cell_type": "code",
   "execution_count": 4,
   "id": "cf875fe8-75bc-43ea-9d2a-e5684e0a85a1",
   "metadata": {},
   "outputs": [],
   "source": [
    "inst.conf_function_DCV()"
   ]
  },
  {
   "cell_type": "code",
   "execution_count": 5,
   "id": "prescribed-concord",
   "metadata": {},
   "outputs": [
    {
     "data": {
      "text/plain": [
       "-0.00576038906"
      ]
     },
     "execution_count": 5,
     "metadata": {},
     "output_type": "execute_result"
    }
   ],
   "source": [
    "inst.get_reading()"
   ]
  },
  {
   "cell_type": "code",
   "execution_count": 6,
   "id": "2845358c-3631-4d9c-b069-90f4eef2d0ec",
   "metadata": {},
   "outputs": [],
   "source": [
    "inst.close()"
   ]
  },
  {
   "cell_type": "code",
   "execution_count": null,
   "id": "5e332f57-cec8-445f-adbb-6e377cfad73b",
   "metadata": {},
   "outputs": [],
   "source": []
  }
 ],
 "metadata": {
  "kernelspec": {
   "display_name": "Python 3",
   "language": "python",
   "name": "python3"
  },
  "language_info": {
   "codemirror_mode": {
    "name": "ipython",
    "version": 3
   },
   "file_extension": ".py",
   "mimetype": "text/x-python",
   "name": "python",
   "nbconvert_exporter": "python",
   "pygments_lexer": "ipython3",
   "version": "3.8.10"
  }
 },
 "nbformat": 4,
 "nbformat_minor": 5
}
