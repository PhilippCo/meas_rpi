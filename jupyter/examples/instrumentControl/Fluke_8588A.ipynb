{
 "cells": [
  {
   "cell_type": "code",
   "execution_count": 1,
   "id": "d84d286c-c461-4602-b6d1-997d2fb514f1",
   "metadata": {},
   "outputs": [],
   "source": [
    "import testgear"
   ]
  },
  {
   "cell_type": "code",
   "execution_count": 2,
   "id": "7f1e37e6-42e2-4b50-8faf-fa284164b21c",
   "metadata": {},
   "outputs": [
    {
     "name": "stdout",
     "output_type": "stream",
     "text": [
      "pyvisa initialized..\n"
     ]
    }
   ],
   "source": [
    "inst = testgear.Fluke.F8588A(gpib=3, gwip=\"10.112.145.89\")"
   ]
  },
  {
   "cell_type": "code",
   "execution_count": 3,
   "id": "2be0f777-1f8e-4ac7-be3a-ef3c73f79473",
   "metadata": {},
   "outputs": [
    {
     "data": {
      "text/plain": [
       "============ Testgear Instrument ============\n",
       "Class:\t\tF8588A\n",
       "VISA String:\tTCPIP::10.112.145.89::gpib0,3::INSTR\n",
       "ID String:\tFLUKE,8588A,480576185,1.26\n",
       "Timeout:\t30.000 s"
      ]
     },
     "execution_count": 3,
     "metadata": {},
     "output_type": "execute_result"
    }
   ],
   "source": [
    "inst"
   ]
  },
  {
   "cell_type": "code",
   "execution_count": 4,
   "id": "ffa3aeea-50ba-417f-bb4c-77e879307847",
   "metadata": {},
   "outputs": [],
   "source": [
    "inst.conf_function_DCV(mrange=1)"
   ]
  },
  {
   "cell_type": "code",
   "execution_count": 5,
   "id": "fd182351-8d8c-4efc-b3b5-4f2ecea6a87f",
   "metadata": {},
   "outputs": [
    {
     "data": {
      "text/plain": [
       "0.9999972"
      ]
     },
     "execution_count": 5,
     "metadata": {},
     "output_type": "execute_result"
    }
   ],
   "source": [
    "inst.get_reading()"
   ]
  },
  {
   "cell_type": "code",
   "execution_count": 6,
   "id": "beeb2e25-29ef-4d86-8406-903b9304000e",
   "metadata": {},
   "outputs": [
    {
     "data": {
      "text/plain": [
       "{'mean': 0.9999972, 'std': 0.0, 'std_ppm': 0.0}"
      ]
     },
     "execution_count": 6,
     "metadata": {},
     "output_type": "execute_result"
    }
   ],
   "source": [
    "data = inst.read_avg(3)\n",
    "data"
   ]
  },
  {
   "cell_type": "code",
   "execution_count": null,
   "id": "1a7473f4-c528-4b66-bf6f-701df7261c7a",
   "metadata": {},
   "outputs": [],
   "source": []
  }
 ],
 "metadata": {
  "kernelspec": {
   "display_name": "Python 3",
   "language": "python",
   "name": "python3"
  },
  "language_info": {
   "codemirror_mode": {
    "name": "ipython",
    "version": 3
   },
   "file_extension": ".py",
   "mimetype": "text/x-python",
   "name": "python",
   "nbconvert_exporter": "python",
   "pygments_lexer": "ipython3",
   "version": "3.8.10"
  }
 },
 "nbformat": 4,
 "nbformat_minor": 5
}
