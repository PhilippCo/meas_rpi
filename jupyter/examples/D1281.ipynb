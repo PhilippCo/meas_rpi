{
 "cells": [
  {
   "cell_type": "code",
   "execution_count": null,
   "id": "2b5a12e8-5437-4729-8c1b-54a61464c6eb",
   "metadata": {},
   "outputs": [],
   "source": [
    "import testgear"
   ]
  },
  {
   "cell_type": "code",
   "execution_count": null,
   "id": "078d58dc-63c2-4fe1-854e-a88d8889414e",
   "metadata": {},
   "outputs": [],
   "source": [
    "inst = testgear.base_classes.instrument(gpib=23, gwip=None)"
   ]
  },
  {
   "cell_type": "code",
   "execution_count": null,
   "id": "e6db31e7-fb8b-4944-a1fb-895d0a5d3b18",
   "metadata": {},
   "outputs": [],
   "source": [
    "inst.query(\"RDG?\")"
   ]
  },
  {
   "cell_type": "code",
   "execution_count": null,
   "id": "545ad268-8139-4763-bbd6-d04e5a46d8cf",
   "metadata": {},
   "outputs": [],
   "source": []
  }
 ],
 "metadata": {
  "kernelspec": {
   "display_name": "Python 3",
   "language": "python",
   "name": "python3"
  },
  "language_info": {
   "codemirror_mode": {
    "name": "ipython",
    "version": 3
   },
   "file_extension": ".py",
   "mimetype": "text/x-python",
   "name": "python",
   "nbconvert_exporter": "python",
   "pygments_lexer": "ipython3",
   "version": "3.7.3"
  }
 },
 "nbformat": 4,
 "nbformat_minor": 5
}
