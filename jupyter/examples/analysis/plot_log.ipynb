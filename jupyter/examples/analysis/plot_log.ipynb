{
 "cells": [
  {
   "cell_type": "markdown",
   "id": "01c99c0f-c7c0-4d8d-9b0f-2434e6a94722",
   "metadata": {},
   "source": [
    "# Plot the simple log"
   ]
  },
  {
   "cell_type": "code",
   "execution_count": 1,
   "id": "contained-reduction",
   "metadata": {},
   "outputs": [],
   "source": [
    "%matplotlib widget\n",
    "import matplotlib.pyplot as plt\n",
    "import pandas as pd\n",
    "import numpy as np\n",
    "from scipy import stats"
   ]
  },
  {
   "cell_type": "code",
   "execution_count": 2,
   "id": "fabulous-charge",
   "metadata": {},
   "outputs": [
    {
     "data": {
      "text/html": [
       "<div>\n",
       "<style scoped>\n",
       "    .dataframe tbody tr th:only-of-type {\n",
       "        vertical-align: middle;\n",
       "    }\n",
       "\n",
       "    .dataframe tbody tr th {\n",
       "        vertical-align: top;\n",
       "    }\n",
       "\n",
       "    .dataframe thead th {\n",
       "        text-align: right;\n",
       "    }\n",
       "</style>\n",
       "<table border=\"1\" class=\"dataframe\">\n",
       "  <thead>\n",
       "    <tr style=\"text-align: right;\">\n",
       "      <th></th>\n",
       "      <th>timestamp</th>\n",
       "      <th>value</th>\n",
       "    </tr>\n",
       "  </thead>\n",
       "  <tbody>\n",
       "    <tr>\n",
       "      <th>0</th>\n",
       "      <td>2021-08-14 01:03:45.656</td>\n",
       "      <td>7.185730</td>\n",
       "    </tr>\n",
       "    <tr>\n",
       "      <th>1</th>\n",
       "      <td>2021-08-14 01:03:49.734</td>\n",
       "      <td>7.185730</td>\n",
       "    </tr>\n",
       "    <tr>\n",
       "      <th>2</th>\n",
       "      <td>2021-08-14 01:03:53.773</td>\n",
       "      <td>7.185730</td>\n",
       "    </tr>\n",
       "    <tr>\n",
       "      <th>3</th>\n",
       "      <td>2021-08-14 01:03:57.813</td>\n",
       "      <td>7.185730</td>\n",
       "    </tr>\n",
       "    <tr>\n",
       "      <th>4</th>\n",
       "      <td>2021-08-14 01:04:01.849</td>\n",
       "      <td>7.185730</td>\n",
       "    </tr>\n",
       "    <tr>\n",
       "      <th>5</th>\n",
       "      <td>2021-08-14 01:04:05.911</td>\n",
       "      <td>7.185731</td>\n",
       "    </tr>\n",
       "    <tr>\n",
       "      <th>6</th>\n",
       "      <td>2021-08-14 01:04:09.951</td>\n",
       "      <td>7.185730</td>\n",
       "    </tr>\n",
       "    <tr>\n",
       "      <th>7</th>\n",
       "      <td>2021-08-14 01:04:14.039</td>\n",
       "      <td>7.185730</td>\n",
       "    </tr>\n",
       "    <tr>\n",
       "      <th>8</th>\n",
       "      <td>2021-08-14 01:04:18.076</td>\n",
       "      <td>7.185731</td>\n",
       "    </tr>\n",
       "    <tr>\n",
       "      <th>9</th>\n",
       "      <td>2021-08-14 01:04:22.119</td>\n",
       "      <td>7.185731</td>\n",
       "    </tr>\n",
       "  </tbody>\n",
       "</table>\n",
       "</div>"
      ],
      "text/plain": [
       "                timestamp     value\n",
       "0 2021-08-14 01:03:45.656  7.185730\n",
       "1 2021-08-14 01:03:49.734  7.185730\n",
       "2 2021-08-14 01:03:53.773  7.185730\n",
       "3 2021-08-14 01:03:57.813  7.185730\n",
       "4 2021-08-14 01:04:01.849  7.185730\n",
       "5 2021-08-14 01:04:05.911  7.185731\n",
       "6 2021-08-14 01:04:09.951  7.185730\n",
       "7 2021-08-14 01:04:14.039  7.185730\n",
       "8 2021-08-14 01:04:18.076  7.185731\n",
       "9 2021-08-14 01:04:22.119  7.185731"
      ]
     },
     "execution_count": 2,
     "metadata": {},
     "output_type": "execute_result"
    }
   ],
   "source": [
    "data = pd.read_excel(\"../instrumentControl/data/2021-08-14--01-03-41_10V_log.xlsx\")\n",
    "data"
   ]
  },
  {
   "cell_type": "code",
   "execution_count": 3,
   "id": "4b37c4d6-6f48-4acc-8daf-9f43c2e5be7f",
   "metadata": {},
   "outputs": [],
   "source": [
    "#lets write a litle helper function to calculate the deviation in ppm referenced to the mean\n",
    "def ppm(arr):\n",
    "    return (arr - np.mean(arr))/np.mean(arr) * 1e6"
   ]
  },
  {
   "cell_type": "code",
   "execution_count": 4,
   "id": "indirect-reception",
   "metadata": {},
   "outputs": [
    {
     "data": {
      "application/vnd.jupyter.widget-view+json": {
       "model_id": "cf9c670178c34b17ba995494fdf0095c",
       "version_major": 2,
       "version_minor": 0
      },
      "text/plain": [
       "Canvas(toolbar=Toolbar(toolitems=[('Home', 'Reset original view', 'home', 'home'), ('Back', 'Back to previous …"
      ]
     },
     "metadata": {},
     "output_type": "display_data"
    }
   ],
   "source": [
    "plt.figure()\n",
    "plt.title(\"Simple Voltage Log\")\n",
    "plt.plot(ppm(data[\"value\"]))\n",
    "\n",
    "plt.ylabel(\"Deviation in ppm\")\n",
    "plt.xlabel(\"Numer of Measurement\")\n",
    "plt.grid()\n",
    "plt.tight_layout()\n",
    "plt.show()"
   ]
  },
  {
   "cell_type": "code",
   "execution_count": null,
   "id": "hairy-realtor",
   "metadata": {},
   "outputs": [],
   "source": []
  }
 ],
 "metadata": {
  "kernelspec": {
   "display_name": "Python 3",
   "language": "python",
   "name": "python3"
  },
  "language_info": {
   "codemirror_mode": {
    "name": "ipython",
    "version": 3
   },
   "file_extension": ".py",
   "mimetype": "text/x-python",
   "name": "python",
   "nbconvert_exporter": "python",
   "pygments_lexer": "ipython3",
   "version": "3.8.10"
  }
 },
 "nbformat": 4,
 "nbformat_minor": 5
}
