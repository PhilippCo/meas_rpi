{
 "cells": [
  {
   "cell_type": "markdown",
   "id": "dbbb71ff-f33b-4f0a-a94a-1bedcbb70b12",
   "metadata": {},
   "source": [
    "# Rebuild linux-gpib\n",
    "\n",
    "Use this notebook to rebuild linux-gpib after a kernel update"
   ]
  },
  {
   "cell_type": "code",
   "execution_count": null,
   "id": "5719da85-b909-4689-9939-900efe0c381f",
   "metadata": {},
   "outputs": [],
   "source": [
    "! ~/repos/meas_rpi/rebuild_gpib.sh"
   ]
  }
 ],
 "metadata": {
  "kernelspec": {
   "display_name": "Python 3 (ipykernel)",
   "language": "python",
   "name": "python3"
  },
  "language_info": {
   "codemirror_mode": {
    "name": "ipython",
    "version": 3
   },
   "file_extension": ".py",
   "mimetype": "text/x-python",
   "name": "python",
   "nbconvert_exporter": "python",
   "pygments_lexer": "ipython3",
   "version": "3.7.3"
  }
 },
 "nbformat": 4,
 "nbformat_minor": 5
}
