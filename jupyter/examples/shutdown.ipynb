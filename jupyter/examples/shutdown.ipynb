{
 "cells": [
  {
   "cell_type": "markdown",
   "id": "d6bbe5be-0346-4ea8-ac09-fa377b0cb0fe",
   "metadata": {},
   "source": [
    "# Shutdown Raspberry Pi\n",
    "Running this notebook will shutdown the Raspberry Pi"
   ]
  },
  {
   "cell_type": "code",
   "execution_count": null,
   "id": "b86b7526-7fc7-4fb7-9d77-7fce0240d610",
   "metadata": {},
   "outputs": [],
   "source": [
    "!sudo shutdown -h now"
   ]
  }
 ],
 "metadata": {
  "kernelspec": {
   "display_name": "Python 3",
   "language": "python",
   "name": "python3"
  },
  "language_info": {
   "codemirror_mode": {
    "name": "ipython",
    "version": 3
   },
   "file_extension": ".py",
   "mimetype": "text/x-python",
   "name": "python",
   "nbconvert_exporter": "python",
   "pygments_lexer": "ipython3",
   "version": "3.8.10"
  }
 },
 "nbformat": 4,
 "nbformat_minor": 5
}
