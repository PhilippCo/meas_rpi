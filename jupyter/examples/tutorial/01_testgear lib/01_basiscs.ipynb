{
 "cells": [
  {
   "cell_type": "markdown",
   "id": "contained-sarah",
   "metadata": {},
   "source": [
    "# TestGear Lib"
   ]
  },
  {
   "cell_type": "code",
   "execution_count": 1,
   "id": "certified-naples",
   "metadata": {},
   "outputs": [],
   "source": [
    "import testgear"
   ]
  },
  {
   "cell_type": "markdown",
   "id": "finnish-encounter",
   "metadata": {},
   "source": [
    "### create an instance of a dummy instrument"
   ]
  },
  {
   "cell_type": "code",
   "execution_count": 2,
   "id": "cordless-richards",
   "metadata": {},
   "outputs": [
    {
     "data": {
      "text/plain": [
       "============ Testgear Instrument ============\n",
       "Class:\t\tdummy\n",
       "VISA String:\tGPIB0::22::INSTR\n",
       "ID String:\tdummy instrument\n",
       "Timeout:\t1.000 s"
      ]
     },
     "execution_count": 2,
     "metadata": {},
     "output_type": "execute_result"
    }
   ],
   "source": [
    "inst = testgear.CoTech.dummy(gpib=22)\n",
    "inst"
   ]
  },
  {
   "cell_type": "markdown",
   "id": "contemporary-mailman",
   "metadata": {},
   "source": []
  },
  {
   "cell_type": "code",
   "execution_count": 3,
   "id": "increased-mustang",
   "metadata": {},
   "outputs": [
    {
     "data": {
      "text/plain": [
       "10.000116494985464"
      ]
     },
     "execution_count": 3,
     "metadata": {},
     "output_type": "execute_result"
    }
   ],
   "source": [
    "inst.get_reading()"
   ]
  },
  {
   "cell_type": "code",
   "execution_count": 4,
   "id": "quality-timothy",
   "metadata": {},
   "outputs": [
    {
     "data": {
      "text/plain": [
       "{'mean': 9.999995905654286,\n",
       " 'std': 0.00011217360153415041,\n",
       " 'std_ppm': 11.217364746191967}"
      ]
     },
     "execution_count": 4,
     "metadata": {},
     "output_type": "execute_result"
    }
   ],
   "source": [
    "inst.read_avg(10)"
   ]
  },
  {
   "cell_type": "code",
   "execution_count": null,
   "id": "champion-poster",
   "metadata": {},
   "outputs": [],
   "source": []
  }
 ],
 "metadata": {
  "kernelspec": {
   "display_name": "Python 3",
   "language": "python",
   "name": "python3"
  },
  "language_info": {
   "codemirror_mode": {
    "name": "ipython",
    "version": 3
   },
   "file_extension": ".py",
   "mimetype": "text/x-python",
   "name": "python",
   "nbconvert_exporter": "python",
   "pygments_lexer": "ipython3",
   "version": "3.8.10"
  }
 },
 "nbformat": 4,
 "nbformat_minor": 5
}
