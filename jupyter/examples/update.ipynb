{
 "cells": [
  {
   "cell_type": "markdown",
   "id": "rocky-perfume",
   "metadata": {},
   "source": [
    "# Update Libs\n",
    "This Jupyter Notebook will update your Pi regarding the MeasPi Setup"
   ]
  },
  {
   "cell_type": "markdown",
   "id": "protective-following",
   "metadata": {},
   "source": [
    "## update testgear lib"
   ]
  },
  {
   "cell_type": "code",
   "execution_count": null,
   "id": "fifteen-threshold",
   "metadata": {},
   "outputs": [],
   "source": [
    "!cd ~/repos/testgear && git reset --hard origin/main && git pull"
   ]
  },
  {
   "cell_type": "markdown",
   "id": "egyptian-literacy",
   "metadata": {},
   "source": [
    "## update meas_rpi"
   ]
  },
  {
   "cell_type": "code",
   "execution_count": null,
   "id": "appointed-suspect",
   "metadata": {},
   "outputs": [],
   "source": [
    "!cd ~/repos/meas_rpi && git reset --hard origin/main && git pull"
   ]
  },
  {
   "cell_type": "markdown",
   "id": "finished-bones",
   "metadata": {},
   "source": [
    "## update Vxi11 Server"
   ]
  },
  {
   "cell_type": "code",
   "execution_count": null,
   "id": "minimal-forward",
   "metadata": {},
   "outputs": [],
   "source": [
    "!cd ~/repos/python-vxi11-server && git reset --hard origin/main && git pull"
   ]
  }
 ],
 "metadata": {
  "kernelspec": {
   "display_name": "Python 3",
   "language": "python",
   "name": "python3"
  },
  "language_info": {
   "codemirror_mode": {
    "name": "ipython",
    "version": 3
   },
   "file_extension": ".py",
   "mimetype": "text/x-python",
   "name": "python",
   "nbconvert_exporter": "python",
   "pygments_lexer": "ipython3",
   "version": "3.8.10"
  }
 },
 "nbformat": 4,
 "nbformat_minor": 5
}
