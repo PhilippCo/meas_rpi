{
 "cells": [
  {
   "cell_type": "markdown",
   "id": "ead06e34-22e3-496b-baab-bef84f927384",
   "metadata": {},
   "source": [
    "# Update Libs"
   ]
  },
  {
   "cell_type": "markdown",
   "id": "214ab478-664f-4ccd-8da7-103754c08695",
   "metadata": {},
   "source": [
    "## update testgear lib"
   ]
  },
  {
   "cell_type": "code",
   "execution_count": 1,
   "id": "e19cd038-2523-4af2-8a44-715bde994863",
   "metadata": {},
   "outputs": [
    {
     "name": "stdout",
     "output_type": "stream",
     "text": [
      "Already up to date.\n"
     ]
    }
   ],
   "source": [
    "!cd ~/repos/testgear && git pull"
   ]
  },
  {
   "cell_type": "markdown",
   "id": "07a7a3a5-6a14-41c4-9aa4-c319fc0a8e5b",
   "metadata": {},
   "source": [
    "## update meas_rpi"
   ]
  },
  {
   "cell_type": "code",
   "execution_count": 2,
   "id": "1a2770e3-e2e4-46af-b7e0-f5ee6662e823",
   "metadata": {},
   "outputs": [
    {
     "name": "stdout",
     "output_type": "stream",
     "text": [
      "Updating 188be86..00bc609\n",
      "error: Your local changes to the following files would be overwritten by merge:\n",
      "\tjupyter/examples/D1281.ipynb\n",
      "\tjupyter/examples/HP34401A.ipynb\n",
      "\tjupyter/examples/HP3458A.ipynb\n",
      "Please commit your changes or stash them before you merge.\n",
      "Aborting\n"
     ]
    }
   ],
   "source": [
    "!cd ~/repos/meas_rpi && git pull"
   ]
  },
  {
   "cell_type": "markdown",
   "id": "d54e9e9d-37b5-44f5-8090-06253021c388",
   "metadata": {},
   "source": [
    "## update Vxi11 Server"
   ]
  },
  {
   "cell_type": "code",
   "execution_count": 3,
   "id": "674897f6-6f19-4663-ac83-7b43ad169ee6",
   "metadata": {},
   "outputs": [
    {
     "name": "stdout",
     "output_type": "stream",
     "text": [
      "Already up to date.\n"
     ]
    }
   ],
   "source": [
    "!cd ~/repos/python-vxi11-server && git pull"
   ]
  },
  {
   "cell_type": "code",
   "execution_count": null,
   "id": "e25e5f8b-b45a-4e0b-ad91-fb00cad3dfa8",
   "metadata": {},
   "outputs": [],
   "source": []
  }
 ],
 "metadata": {
  "kernelspec": {
   "display_name": "Python 3",
   "language": "python",
   "name": "python3"
  },
  "language_info": {
   "codemirror_mode": {
    "name": "ipython",
    "version": 3
   },
   "file_extension": ".py",
   "mimetype": "text/x-python",
   "name": "python",
   "nbconvert_exporter": "python",
   "pygments_lexer": "ipython3",
   "version": "3.7.3"
  }
 },
 "nbformat": 4,
 "nbformat_minor": 5
}
