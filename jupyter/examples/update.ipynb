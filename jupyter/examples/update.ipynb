{
 "cells": [
  {
   "cell_type": "markdown",
   "id": "complicated-romania",
   "metadata": {},
   "source": [
    "# Update Libs\n",
    "This Jupyter Notebook will update your Pi regarding the MeasPi Setup"
   ]
  },
  {
   "cell_type": "markdown",
   "id": "focal-fifteen",
   "metadata": {},
   "source": [
    "## update testgear lib"
   ]
  },
  {
   "cell_type": "code",
   "execution_count": null,
   "id": "marked-words",
   "metadata": {},
   "outputs": [],
   "source": [
    "!cd ~/repos/testgear && git pull"
   ]
  },
  {
   "cell_type": "markdown",
   "id": "electrical-panic",
   "metadata": {},
   "source": [
    "## update meas_rpi"
   ]
  },
  {
   "cell_type": "code",
   "execution_count": null,
   "id": "reported-eagle",
   "metadata": {},
   "outputs": [],
   "source": [
    "!cd ~/repos/meas_rpi && git pull"
   ]
  },
  {
   "cell_type": "markdown",
   "id": "objective-elder",
   "metadata": {},
   "source": [
    "## update Vxi11 Server"
   ]
  },
  {
   "cell_type": "code",
   "execution_count": null,
   "id": "baking-literature",
   "metadata": {},
   "outputs": [],
   "source": [
    "!cd ~/repos/python-vxi11-server && git pull"
   ]
  }
 ],
 "metadata": {
  "kernelspec": {
   "display_name": "Python 3",
   "language": "python",
   "name": "python3"
  },
  "language_info": {
   "codemirror_mode": {
    "name": "ipython",
    "version": 3
   },
   "file_extension": ".py",
   "mimetype": "text/x-python",
   "name": "python",
   "nbconvert_exporter": "python",
   "pygments_lexer": "ipython3",
   "version": "3.8.10"
  }
 },
 "nbformat": 4,
 "nbformat_minor": 5
}
